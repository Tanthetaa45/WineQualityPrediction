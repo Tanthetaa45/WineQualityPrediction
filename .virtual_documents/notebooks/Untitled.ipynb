import matplotlib.pyplot as plt
import numpy as np
import pandas as pd
import os
import sys



Path = "/Volumes/Extreme SSD/WineQualityPrediction/data/raw"


df = pd.read_csv(os.path.join(Path, "winequality-white.csv"), sep=';')
df1 = pd.read_csv(os.path.join(Path, "winequality-red.csv"), sep=';')
df['type'] = 'white'  
df1['type'] = 'red'   
print(df.info())
print(df1.info())


print(df.head())
print(df1.head())


print(df.isnull().sum())
print(df1.isnull().sum())


wine_df = pd.concat([df, df1], ignore_index=True)
print(wine_df.info())
print(wine_df['type'].value_counts())
print(wine_df.head())


print(wine_df.describe())



